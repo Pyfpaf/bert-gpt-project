{
 "cells": [
  {
   "cell_type": "markdown",
   "id": "444689c5-93d0-4250-b72d-1dd3d6023d45",
   "metadata": {},
   "source": [
    "# **Предсказание наличие спама в сообщениях электронной почты на основе содержащегося в них текста с помощью фреймворка PyTorch**"
   ]
  },
  {
   "cell_type": "markdown",
   "id": "47a1f210-e6bb-4c83-9312-476053829fcf",
   "metadata": {},
   "source": [
    "## **1. Импорт библиотек**"
   ]
  },
  {
   "cell_type": "code",
   "execution_count": 1,
   "id": "28ea1861-c9e0-4416-bb7e-a7cc7ff96c96",
   "metadata": {
    "scrolled": true
   },
   "outputs": [],
   "source": [
    "# !pip install sentence_transformers\n",
    "# !pip install nltk"
   ]
  },
  {
   "cell_type": "code",
   "execution_count": 2,
   "id": "70f9c01b-a6d7-4c30-ae9a-4b35af99d625",
   "metadata": {},
   "outputs": [
    {
     "name": "stderr",
     "output_type": "stream",
     "text": [
      "C:\\Users\\Alex\\anaconda3\\envs\\bert\\Lib\\site-packages\\tqdm\\auto.py:21: TqdmWarning: IProgress not found. Please update jupyter and ipywidgets. See https://ipywidgets.readthedocs.io/en/stable/user_install.html\n",
      "  from .autonotebook import tqdm as notebook_tqdm\n",
      "[nltk_data] Downloading package punkt to\n",
      "[nltk_data]     C:\\Users\\Alex\\AppData\\Roaming\\nltk_data...\n",
      "[nltk_data]   Package punkt is already up-to-date!\n",
      "[nltk_data] Downloading package stopwords to\n",
      "[nltk_data]     C:\\Users\\Alex\\AppData\\Roaming\\nltk_data...\n",
      "[nltk_data]   Package stopwords is already up-to-date!\n",
      "[nltk_data] Downloading package wordnet to\n",
      "[nltk_data]     C:\\Users\\Alex\\AppData\\Roaming\\nltk_data...\n",
      "[nltk_data]   Package wordnet is already up-to-date!\n",
      "[nltk_data] Downloading package punkt_tab to\n",
      "[nltk_data]     C:\\Users\\Alex\\AppData\\Roaming\\nltk_data...\n",
      "[nltk_data]   Package punkt_tab is already up-to-date!\n"
     ]
    },
    {
     "data": {
      "text/plain": [
       "True"
      ]
     },
     "execution_count": 2,
     "metadata": {},
     "output_type": "execute_result"
    }
   ],
   "source": [
    "import numpy as np\n",
    "import pandas as pd\n",
    "import matplotlib.pyplot as plt\n",
    "import re\n",
    "import nltk\n",
    "\n",
    "from nltk.corpus import stopwords\n",
    "from nltk.tokenize import word_tokenize\n",
    "from nltk.stem import WordNetLemmatizer\n",
    "from transformers import BertModel, BertTokenizer\n",
    "from transformers import GPT2Tokenizer, GPT2Model\n",
    "from sentence_transformers import SentenceTransformer\n",
    "\n",
    "import torch\n",
    "import torch.nn as nn\n",
    "import torch.optim as optim\n",
    "from sklearn.model_selection import train_test_split\n",
    "from torch.utils.data import TensorDataset, DataLoader\n",
    "from sklearn.metrics import accuracy_score, f1_score\n",
    "\n",
    "nltk.download('punkt')\n",
    "nltk.download('stopwords')\n",
    "nltk.download('wordnet')\n",
    "nltk.download('punkt_tab')"
   ]
  },
  {
   "cell_type": "markdown",
   "id": "2f9c1a5f-a6a5-40a4-af20-401f38136ff7",
   "metadata": {},
   "source": [
    "## **2. Загрузка датасета**"
   ]
  },
  {
   "cell_type": "code",
   "execution_count": 3,
   "id": "4d072145-c937-40d7-b34c-4b2266f499bc",
   "metadata": {},
   "outputs": [
    {
     "data": {
      "text/plain": [
       "(1000, 2)"
      ]
     },
     "execution_count": 3,
     "metadata": {},
     "output_type": "execute_result"
    }
   ],
   "source": [
    "df = pd.read_csv('data/email_text.csv', nrows=1000)\n",
    "df.shape"
   ]
  },
  {
   "cell_type": "code",
   "execution_count": 4,
   "id": "3d136d64-548b-4dfa-82ed-6166a4bd5467",
   "metadata": {},
   "outputs": [
    {
     "data": {
      "text/html": [
       "<div>\n",
       "<style scoped>\n",
       "    .dataframe tbody tr th:only-of-type {\n",
       "        vertical-align: middle;\n",
       "    }\n",
       "\n",
       "    .dataframe tbody tr th {\n",
       "        vertical-align: top;\n",
       "    }\n",
       "\n",
       "    .dataframe thead th {\n",
       "        text-align: right;\n",
       "    }\n",
       "</style>\n",
       "<table border=\"1\" class=\"dataframe\">\n",
       "  <thead>\n",
       "    <tr style=\"text-align: right;\">\n",
       "      <th></th>\n",
       "      <th>label</th>\n",
       "      <th>text</th>\n",
       "    </tr>\n",
       "  </thead>\n",
       "  <tbody>\n",
       "    <tr>\n",
       "      <th>0</th>\n",
       "      <td>0</td>\n",
       "      <td>the mailing list i queried about a few weeks a...</td>\n",
       "    </tr>\n",
       "    <tr>\n",
       "      <th>1</th>\n",
       "      <td>1</td>\n",
       "      <td>luxury watches buy your own rolex for only esc...</td>\n",
       "    </tr>\n",
       "    <tr>\n",
       "      <th>2</th>\n",
       "      <td>1</td>\n",
       "      <td>academic qualifications available from prestig...</td>\n",
       "    </tr>\n",
       "    <tr>\n",
       "      <th>3</th>\n",
       "      <td>0</td>\n",
       "      <td>greetings all this is to verify your subscript...</td>\n",
       "    </tr>\n",
       "    <tr>\n",
       "      <th>4</th>\n",
       "      <td>1</td>\n",
       "      <td>try chauncey may conferred the luscious not co...</td>\n",
       "    </tr>\n",
       "  </tbody>\n",
       "</table>\n",
       "</div>"
      ],
      "text/plain": [
       "   label                                               text\n",
       "0      0  the mailing list i queried about a few weeks a...\n",
       "1      1  luxury watches buy your own rolex for only esc...\n",
       "2      1  academic qualifications available from prestig...\n",
       "3      0  greetings all this is to verify your subscript...\n",
       "4      1  try chauncey may conferred the luscious not co..."
      ]
     },
     "execution_count": 4,
     "metadata": {},
     "output_type": "execute_result"
    }
   ],
   "source": [
    "df.head()"
   ]
  },
  {
   "cell_type": "code",
   "execution_count": 5,
   "id": "1afc328e-485d-4fce-b45e-74f342dbca50",
   "metadata": {},
   "outputs": [
    {
     "data": {
      "text/plain": [
       "label\n",
       "0    652\n",
       "1    348\n",
       "Name: count, dtype: int64"
      ]
     },
     "execution_count": 5,
     "metadata": {},
     "output_type": "execute_result"
    }
   ],
   "source": [
    "df.label.value_counts()"
   ]
  },
  {
   "cell_type": "markdown",
   "id": "613e285a-fd0b-487d-ab92-dc8657364853",
   "metadata": {},
   "source": [
    "Выборка не сбалансирована"
   ]
  },
  {
   "cell_type": "markdown",
   "id": "81aafd69-25a0-4c53-852f-091fddcd291b",
   "metadata": {},
   "source": [
    "## **3. Предобработка данных**"
   ]
  },
  {
   "cell_type": "code",
   "execution_count": 6,
   "id": "add7285b-9cf9-43a9-94ce-75d108a97bc0",
   "metadata": {},
   "outputs": [
    {
     "data": {
      "text/plain": [
       "label    0\n",
       "text     0\n",
       "dtype: int64"
      ]
     },
     "execution_count": 6,
     "metadata": {},
     "output_type": "execute_result"
    }
   ],
   "source": [
    "df.isna().sum()"
   ]
  },
  {
   "cell_type": "code",
   "execution_count": 7,
   "id": "3230dc0d-3ce6-48de-9be8-41f618510722",
   "metadata": {},
   "outputs": [],
   "source": [
    "def text_cleaner(text):\n",
    "    # Преобразование текста в нижний регистр\n",
    "    text = text.lower()\n",
    "\n",
    "    # Удаление лишних пробелов\n",
    "    text = re.sub(r'\\s+', ' ', text)\n",
    "\n",
    "    # Преобразование сокращений\n",
    "    text = re.sub(r\"won't\", \"will not\", text)\n",
    "    text = re.sub(r\"can't\", \"cannot\", text)\n",
    "    text = re.sub(r\"n't\", \" not\", text)\n",
    "    text = re.sub(r\"'ve\", \" have\", text)\n",
    "    text = re.sub(r\"'ll\", \" will\", text)\n",
    "    text = re.sub(r\"'d\", \" would\", text)\n",
    "    text = re.sub(r\"'re\", \" are\", text)\n",
    "    text = re.sub(r\"'s\", \" is\", text)\n",
    "    text = re.sub(r\"'m\", \" am\", text)\n",
    "\n",
    "    # Удаление знаков препинания\n",
    "    text = re.sub(r'[^\\w\\s]', '', text)\n",
    "\n",
    "    # Удаление стоп-слов\n",
    "    stop_words = set(stopwords.words('english'))\n",
    "    tokens = word_tokenize(text)\n",
    "    filtered_text = [word for word in tokens if word.lower() not in stop_words]\n",
    "\n",
    "    # Лемматизация слов\n",
    "    lemmatizer = WordNetLemmatizer()\n",
    "    lemmatized_text = [lemmatizer.lemmatize(word) for word in filtered_text]\n",
    "\n",
    "    # Объединение лемматизированных слов обратно в текст\n",
    "    cleaned_text = ' '.join(lemmatized_text)\n",
    "\n",
    "    return cleaned_text"
   ]
  },
  {
   "cell_type": "code",
   "execution_count": 8,
   "id": "61849aa8-c3cf-4c05-ae3e-1c93511b4dbe",
   "metadata": {},
   "outputs": [],
   "source": [
    "df['cleaner_text'] = df['text'].apply(lambda x: text_cleaner(x))"
   ]
  },
  {
   "cell_type": "code",
   "execution_count": 9,
   "id": "e1b16b46-e6f2-4b03-81c4-7dac6deb9bc8",
   "metadata": {},
   "outputs": [
    {
     "data": {
      "text/html": [
       "<div>\n",
       "<style scoped>\n",
       "    .dataframe tbody tr th:only-of-type {\n",
       "        vertical-align: middle;\n",
       "    }\n",
       "\n",
       "    .dataframe tbody tr th {\n",
       "        vertical-align: top;\n",
       "    }\n",
       "\n",
       "    .dataframe thead th {\n",
       "        text-align: right;\n",
       "    }\n",
       "</style>\n",
       "<table border=\"1\" class=\"dataframe\">\n",
       "  <thead>\n",
       "    <tr style=\"text-align: right;\">\n",
       "      <th></th>\n",
       "      <th>label</th>\n",
       "      <th>text</th>\n",
       "      <th>cleaner_text</th>\n",
       "    </tr>\n",
       "  </thead>\n",
       "  <tbody>\n",
       "    <tr>\n",
       "      <th>0</th>\n",
       "      <td>0</td>\n",
       "      <td>the mailing list i queried about a few weeks a...</td>\n",
       "      <td>mailing list queried week ago running also set...</td>\n",
       "    </tr>\n",
       "    <tr>\n",
       "      <th>1</th>\n",
       "      <td>1</td>\n",
       "      <td>luxury watches buy your own rolex for only esc...</td>\n",
       "      <td>luxury watch buy rolex escapenumber rolex cart...</td>\n",
       "    </tr>\n",
       "    <tr>\n",
       "      <th>2</th>\n",
       "      <td>1</td>\n",
       "      <td>academic qualifications available from prestig...</td>\n",
       "      <td>academic qualification available prestigious n...</td>\n",
       "    </tr>\n",
       "    <tr>\n",
       "      <th>3</th>\n",
       "      <td>0</td>\n",
       "      <td>greetings all this is to verify your subscript...</td>\n",
       "      <td>greeting verify subscription planescapenumber ...</td>\n",
       "    </tr>\n",
       "    <tr>\n",
       "      <th>4</th>\n",
       "      <td>1</td>\n",
       "      <td>try chauncey may conferred the luscious not co...</td>\n",
       "      <td>try chauncey may conferred luscious continued ...</td>\n",
       "    </tr>\n",
       "  </tbody>\n",
       "</table>\n",
       "</div>"
      ],
      "text/plain": [
       "   label                                               text  \\\n",
       "0      0  the mailing list i queried about a few weeks a...   \n",
       "1      1  luxury watches buy your own rolex for only esc...   \n",
       "2      1  academic qualifications available from prestig...   \n",
       "3      0  greetings all this is to verify your subscript...   \n",
       "4      1  try chauncey may conferred the luscious not co...   \n",
       "\n",
       "                                        cleaner_text  \n",
       "0  mailing list queried week ago running also set...  \n",
       "1  luxury watch buy rolex escapenumber rolex cart...  \n",
       "2  academic qualification available prestigious n...  \n",
       "3  greeting verify subscription planescapenumber ...  \n",
       "4  try chauncey may conferred luscious continued ...  "
      ]
     },
     "execution_count": 9,
     "metadata": {},
     "output_type": "execute_result"
    }
   ],
   "source": [
    "df.head()"
   ]
  },
  {
   "cell_type": "markdown",
   "id": "4ed18d28-a8e8-43b8-8e4d-579dc6eebf61",
   "metadata": {},
   "source": [
    "## **4. Modeling**"
   ]
  },
  {
   "cell_type": "markdown",
   "id": "cc04b6e8-9fb9-4324-826a-28b5ea4f48a9",
   "metadata": {},
   "source": [
    "### **4.1. Получение эмбеддингов с помощью BERT**"
   ]
  },
  {
   "cell_type": "code",
   "execution_count": 10,
   "id": "58023415-6b0a-417a-9097-bdd724874650",
   "metadata": {},
   "outputs": [],
   "source": [
    "model_name = 'bert-base-uncased'\n",
    "tokenizer = BertTokenizer.from_pretrained(model_name)"
   ]
  },
  {
   "cell_type": "code",
   "execution_count": 11,
   "id": "ac0c8ac2-fa62-4f95-af2b-f59f56611efd",
   "metadata": {},
   "outputs": [
    {
     "name": "stderr",
     "output_type": "stream",
     "text": [
      "No sentence-transformers model found with name bert-base-uncased. Creating a new one with mean pooling.\n"
     ]
    }
   ],
   "source": [
    "model = SentenceTransformer(model_name)"
   ]
  },
  {
   "cell_type": "code",
   "execution_count": 12,
   "id": "f3040e58-4901-409c-968e-1820c5fcdff0",
   "metadata": {},
   "outputs": [
    {
     "data": {
      "text/plain": [
       "(1000, 768)"
      ]
     },
     "execution_count": 12,
     "metadata": {},
     "output_type": "execute_result"
    }
   ],
   "source": [
    "embeddings = model.encode(df['cleaner_text'].tolist())\n",
    "embeddings.shape"
   ]
  },
  {
   "cell_type": "markdown",
   "id": "5ddb1627-cf68-4206-85a6-a2e7ed652b9a",
   "metadata": {},
   "source": [
    "#### **4.1.1. Обучение модели**"
   ]
  },
  {
   "cell_type": "code",
   "execution_count": 13,
   "id": "b58c2e3d-8cd3-4c0c-a66b-11f9fd7a46a3",
   "metadata": {},
   "outputs": [],
   "source": [
    "X_train, X_test, y_train, y_test = train_test_split(embeddings, df.label, test_size=0.2, random_state=42)"
   ]
  },
  {
   "cell_type": "code",
   "execution_count": 14,
   "id": "ed31704f-6da0-41a6-8e07-b01ed3dab202",
   "metadata": {},
   "outputs": [],
   "source": [
    "# Преобразование данных в тензоры PyTorch\n",
    "X_train_tensor = torch.tensor(X_train, dtype=torch.float32)\n",
    "X_test_tensor = torch.tensor(X_test, dtype=torch.float32)\n",
    "y_train_tensor = torch.tensor(y_train.values, dtype=torch.float32)\n",
    "y_test_tensor = torch.tensor(y_test.values, dtype=torch.float32)\n",
    "\n",
    "# Создание DataLoader для обучающего и тестового наборов данных\n",
    "train_dataset = TensorDataset(X_train_tensor, y_train_tensor)\n",
    "test_dataset = TensorDataset(X_test_tensor, y_test_tensor)\n",
    "\n",
    "train_loader = DataLoader(train_dataset, batch_size=32, shuffle=True)\n",
    "test_loader = DataLoader(test_dataset, batch_size=32)"
   ]
  },
  {
   "cell_type": "code",
   "execution_count": 15,
   "id": "58ec6d1b-c6a0-410b-a405-40db0754557c",
   "metadata": {},
   "outputs": [],
   "source": [
    "# Определение модели\n",
    "class SpamClassifier(nn.Module):\n",
    "    def __init__(self, input_size, hidden_size, output_size, dropout=0.9):\n",
    "        super().__init__()\n",
    "        self.fc1 = nn.Linear(input_size, hidden_size)\n",
    "        self.fc2 = nn.Linear(hidden_size, output_size)\n",
    "        self.relu = nn.ReLU()\n",
    "        self.sigmoid = nn.Sigmoid()\n",
    "        self.dropout = nn.Dropout(dropout)\n",
    "\n",
    "    def forward(self, x):\n",
    "        out = self.relu(self.fc1(x))\n",
    "        out = self.dropout(out)\n",
    "        out = self.fc2(out)\n",
    "        out = self.sigmoid(out)\n",
    "        return out"
   ]
  },
  {
   "cell_type": "code",
   "execution_count": 16,
   "id": "3c7bacac-9af8-4386-bc7d-feaaf1fed69f",
   "metadata": {},
   "outputs": [],
   "source": [
    "input_size = embeddings.shape[1]\n",
    "hidden_size = 256\n",
    "output_size = 1\n",
    "num_epochs = 20"
   ]
  },
  {
   "cell_type": "code",
   "execution_count": 17,
   "id": "4093e6bc-c0e1-4f17-aeb7-4de3a297f572",
   "metadata": {},
   "outputs": [],
   "source": [
    "model = SpamClassifier(input_size, hidden_size, output_size)"
   ]
  },
  {
   "cell_type": "code",
   "execution_count": 18,
   "id": "444e825d-fdd4-4de2-9daf-65117f7c1d1a",
   "metadata": {},
   "outputs": [],
   "source": [
    "criterion = nn.BCELoss()\n",
    "optimizer = optim.Adam(model.parameters())"
   ]
  },
  {
   "cell_type": "code",
   "execution_count": 19,
   "id": "ecbab96f-09ec-44c7-bc09-7b7e9ffc9395",
   "metadata": {},
   "outputs": [
    {
     "name": "stdout",
     "output_type": "stream",
     "text": [
      "Epoch 1, Train Loss: 0.6072, Train Accuracy: 0.6538, Test Loss: 0.4505, Test Accuracy: 0.8150\n",
      "Epoch 2, Train Loss: 0.5068, Train Accuracy: 0.7513, Test Loss: 0.3620, Test Accuracy: 0.9100\n",
      "Epoch 3, Train Loss: 0.4197, Train Accuracy: 0.8100, Test Loss: 0.2935, Test Accuracy: 0.9100\n",
      "Epoch 4, Train Loss: 0.3804, Train Accuracy: 0.8413, Test Loss: 0.2548, Test Accuracy: 0.9200\n",
      "Epoch 5, Train Loss: 0.3492, Train Accuracy: 0.8550, Test Loss: 0.2339, Test Accuracy: 0.9350\n",
      "Epoch 6, Train Loss: 0.2998, Train Accuracy: 0.8737, Test Loss: 0.2061, Test Accuracy: 0.9500\n",
      "Epoch 7, Train Loss: 0.2728, Train Accuracy: 0.9075, Test Loss: 0.2081, Test Accuracy: 0.9450\n",
      "Epoch 8, Train Loss: 0.2535, Train Accuracy: 0.8950, Test Loss: 0.1869, Test Accuracy: 0.9600\n",
      "Epoch 9, Train Loss: 0.2451, Train Accuracy: 0.9125, Test Loss: 0.1734, Test Accuracy: 0.9750\n",
      "Epoch 10, Train Loss: 0.2115, Train Accuracy: 0.9225, Test Loss: 0.1725, Test Accuracy: 0.9650\n",
      "Epoch 11, Train Loss: 0.2192, Train Accuracy: 0.9125, Test Loss: 0.1736, Test Accuracy: 0.9550\n",
      "Epoch 12, Train Loss: 0.2106, Train Accuracy: 0.9125, Test Loss: 0.1751, Test Accuracy: 0.9700\n",
      "Epoch 13, Train Loss: 0.1889, Train Accuracy: 0.9237, Test Loss: 0.1630, Test Accuracy: 0.9800\n",
      "Epoch 14, Train Loss: 0.1820, Train Accuracy: 0.9375, Test Loss: 0.1830, Test Accuracy: 0.9550\n",
      "Epoch 15, Train Loss: 0.1813, Train Accuracy: 0.9312, Test Loss: 0.1565, Test Accuracy: 0.9750\n",
      "Epoch 16, Train Loss: 0.1865, Train Accuracy: 0.9300, Test Loss: 0.1385, Test Accuracy: 0.9800\n",
      "Epoch 17, Train Loss: 0.1676, Train Accuracy: 0.9388, Test Loss: 0.1734, Test Accuracy: 0.9700\n",
      "Epoch 18, Train Loss: 0.1611, Train Accuracy: 0.9450, Test Loss: 0.1388, Test Accuracy: 0.9800\n",
      "Epoch 19, Train Loss: 0.1587, Train Accuracy: 0.9362, Test Loss: 0.1470, Test Accuracy: 0.9800\n",
      "Epoch 20, Train Loss: 0.1509, Train Accuracy: 0.9413, Test Loss: 0.1383, Test Accuracy: 0.9800\n"
     ]
    }
   ],
   "source": [
    "train_losses = []\n",
    "train_accuracies = []\n",
    "test_losses = []\n",
    "test_accuracies = []\n",
    "\n",
    "# Обучение модели\n",
    "for epoch in range(1, num_epochs+1):\n",
    "    model.train()\n",
    "    running_loss = 0.0\n",
    "    correct_train = 0\n",
    "    total_train = 0\n",
    "    for inputs, labels in train_loader:           \n",
    "        outputs = model(inputs)\n",
    "        loss = criterion(outputs, labels.unsqueeze(1))\n",
    "        optimizer.zero_grad()\n",
    "        loss.backward()\n",
    "        optimizer.step()\n",
    "        running_loss += loss.item()\n",
    "\n",
    "        # Вычисление точности на обучающей выборке\n",
    "        total_train += labels.size(0)\n",
    "        correct_train += sum(torch.tensor([1. if outputs.data[i] >= 0.5 else .0 for i in range(len(outputs))]) == labels)\n",
    "        \n",
    "    # Сохранение значений потерь и точности на обучающей выборке\n",
    "    train_losses.append(running_loss / len(train_loader))\n",
    "    train_accuracies.append(correct_train / total_train)\n",
    "    \n",
    "    # Оценка модели на тестовой выборке\n",
    "    model.eval()\n",
    "    test_loss = 0.0\n",
    "    correct_test = 0\n",
    "    total_test = 0\n",
    "    with torch.no_grad():\n",
    "        for inputs, labels in test_loader:\n",
    "            outputs = model(inputs)\n",
    "            loss = criterion(outputs, labels.unsqueeze(1))\n",
    "            test_loss += loss.item()\n",
    "\n",
    "            # Вычисление точности на тестовой выборке\n",
    "            total_test += labels.size(0)\n",
    "            correct_test += sum(torch.tensor([1. if outputs.data[i] >= 0.5 else .0 for i in range(len(outputs))]) == labels)\n",
    "            \n",
    "\n",
    "    # Сохранение значений потерь и точности на тестовой выборке\n",
    "    test_losses.append(test_loss / len(test_loader))\n",
    "    test_accuracies.append(correct_test / total_test)\n",
    "\n",
    "    print(f\"Epoch {epoch}, Train Loss: {train_losses[-1]:.4f}, Train Accuracy: {train_accuracies[-1]:.4f}, Test Loss: {test_losses[-1]:.4f}, Test Accuracy: {test_accuracies[-1]:.4f}\")"
   ]
  },
  {
   "cell_type": "code",
   "execution_count": 20,
   "id": "0d61f9e5-bde0-4e49-b94e-e0bcdff5ec8c",
   "metadata": {},
   "outputs": [
    {
     "data": {
      "image/png": "[encoded data removed]",
      "text/plain": [
       "<Figure size 1000x500 with 2 Axes>"
      ]
     },
     "metadata": {},
     "output_type": "display_data"
    }
   ],
   "source": [
    "plt.figure(figsize=(10, 5))\n",
    "plt.subplot(1, 2, 1)\n",
    "plt.plot(range(1, num_epochs+1), train_losses, label='Training Loss')\n",
    "plt.plot(range(1, num_epochs+1), test_losses, label='Test Loss')\n",
    "plt.xlabel('Epochs')\n",
    "plt.ylabel('Loss')\n",
    "plt.title('Training and Test Losses')\n",
    "plt.legend()\n",
    "\n",
    "plt.subplot(1, 2, 2)\n",
    "plt.plot(range(1, num_epochs+1), train_accuracies, label='Training Accuracy')\n",
    "plt.plot(range(1, num_epochs+1), test_accuracies, label='Test Accuracy')\n",
    "plt.xlabel('Epochs')\n",
    "plt.ylabel('Accuracy')\n",
    "plt.title('Training and Test Accuracies')\n",
    "plt.legend()\n",
    "\n",
    "plt.tight_layout()\n",
    "plt.show()"
   ]
  },
  {
   "cell_type": "markdown",
   "id": "d500c8d2-b4fb-48d7-af8a-db1ab257f560",
   "metadata": {},
   "source": [
    "#### **4.1.2. Метрики модели с эмбеддингами BERT**"
   ]
  },
  {
   "cell_type": "code",
   "execution_count": 21,
   "id": "360e680f-d915-49d3-95e0-6a106dc4b6a3",
   "metadata": {},
   "outputs": [
    {
     "name": "stdout",
     "output_type": "stream",
     "text": [
      "F1-score: 0.9799\n",
      "Accuracy: 0.98\n"
     ]
    }
   ],
   "source": [
    "probabilities = model(X_test_tensor)\n",
    "predictions = probabilities.detach().numpy()\n",
    "\n",
    "threshold = 0.5\n",
    "predicted_labels = (predictions > threshold).astype(int)\n",
    "\n",
    "# Вычисляем метрики\n",
    "f1_weighted = f1_score(y_test_tensor, predicted_labels.squeeze(1), average='weighted')\n",
    "accuracy = accuracy_score(y_test_tensor, predicted_labels.squeeze(1))\n",
    "\n",
    "print(f'F1-score: {f1_weighted:.4f}')\n",
    "print(f'Accuracy: {accuracy}')"
   ]
  },
  {
   "cell_type": "markdown",
   "id": "5042d669-2dec-4a13-a9b0-c5fe6e29d87b",
   "metadata": {},
   "source": [
    "### **4.2. Получение эмбеддингов с помощью GPT-2**"
   ]
  },
  {
   "cell_type": "code",
   "execution_count": 22,
   "id": "6b24238e-c740-4f46-8365-22bb8bd1eeae",
   "metadata": {},
   "outputs": [],
   "source": [
    "device = torch.device(\"cuda\" if torch.cuda.is_available() else \"cpu\")"
   ]
  },
  {
   "cell_type": "code",
   "execution_count": 23,
   "id": "9de45a22-8e48-40c1-ab4f-4ba759004b90",
   "metadata": {},
   "outputs": [],
   "source": [
    "tokenizer = GPT2Tokenizer.from_pretrained('gpt2')\n",
    "tokenizer.pad_token = tokenizer.eos_token\n",
    "model = GPT2Model.from_pretrained('gpt2')"
   ]
  },
  {
   "cell_type": "code",
   "execution_count": 24,
   "id": "c7213463-a522-4201-9f78-e0e9fc1282a8",
   "metadata": {},
   "outputs": [
    {
     "data": {
      "text/plain": [
       "GPT2Model(\n",
       "  (wte): Embedding(50257, 768)\n",
       "  (wpe): Embedding(1024, 768)\n",
       "  (drop): Dropout(p=0.1, inplace=False)\n",
       "  (h): ModuleList(\n",
       "    (0-11): 12 x GPT2Block(\n",
       "      (ln_1): LayerNorm((768,), eps=1e-05, elementwise_affine=True)\n",
       "      (attn): GPT2SdpaAttention(\n",
       "        (c_attn): Conv1D(nf=2304, nx=768)\n",
       "        (c_proj): Conv1D(nf=768, nx=768)\n",
       "        (attn_dropout): Dropout(p=0.1, inplace=False)\n",
       "        (resid_dropout): Dropout(p=0.1, inplace=False)\n",
       "      )\n",
       "      (ln_2): LayerNorm((768,), eps=1e-05, elementwise_affine=True)\n",
       "      (mlp): GPT2MLP(\n",
       "        (c_fc): Conv1D(nf=3072, nx=768)\n",
       "        (c_proj): Conv1D(nf=768, nx=3072)\n",
       "        (act): NewGELUActivation()\n",
       "        (dropout): Dropout(p=0.1, inplace=False)\n",
       "      )\n",
       "    )\n",
       "  )\n",
       "  (ln_f): LayerNorm((768,), eps=1e-05, elementwise_affine=True)\n",
       ")"
      ]
     },
     "execution_count": 24,
     "metadata": {},
     "output_type": "execute_result"
    }
   ],
   "source": [
    "model.to(device)"
   ]
  },
  {
   "cell_type": "code",
   "execution_count": 25,
   "id": "f4171798-a20d-4d9b-84e7-37aef660ce47",
   "metadata": {},
   "outputs": [],
   "source": [
    "encoded_captions = tokenizer(\n",
    "    df['cleaner_text'].tolist(),\n",
    "    return_tensors='pt',\n",
    "    padding=True,\n",
    "    truncation=True)"
   ]
  },
  {
   "cell_type": "code",
   "execution_count": 26,
   "id": "1dbeb924-a9bc-4a04-b5dd-a0eddc96ffe7",
   "metadata": {},
   "outputs": [],
   "source": [
    "encoded_captions = {key: value.to(device) for key, value in encoded_captions.items()}\n",
    "input_ids = encoded_captions['input_ids']\n",
    "batch_size = 4"
   ]
  },
  {
   "cell_type": "code",
   "execution_count": 27,
   "id": "4cef3f0f-e999-4316-8001-0a70a159233c",
   "metadata": {},
   "outputs": [],
   "source": [
    "all_sentence_embeddings = []\n",
    "\n",
    "for i in range(0, len(encoded_captions['input_ids']), batch_size):\n",
    "    batch_input_ids = encoded_captions['input_ids'][i:i+batch_size].to(device)\n",
    "    batch_attention_mask = encoded_captions['attention_mask'][i:i+batch_size].to(device)\n",
    "\n",
    "    with torch.no_grad():\n",
    "        batch_outputs = model(batch_input_ids)\n",
    "\n",
    "    word_embeddings = batch_outputs.last_hidden_state\n",
    "\n",
    "    masked_word_embeddings = word_embeddings * batch_attention_mask.unsqueeze(-1).float()\n",
    "\n",
    "    sentence_embeddings = masked_word_embeddings.sum(dim=1)\n",
    "\n",
    "    sentence_embeddings /= batch_attention_mask.sum(dim=1, keepdim=True).float()\n",
    "\n",
    "    all_sentence_embeddings.append(sentence_embeddings)\n",
    "\n",
    "all_sentence_embeddings = torch.cat(all_sentence_embeddings, dim=0)"
   ]
  },
  {
   "cell_type": "code",
   "execution_count": 28,
   "id": "d299018f-b1d0-4e4c-bb40-abc5bc3fe41f",
   "metadata": {},
   "outputs": [
    {
     "data": {
      "text/plain": [
       "tensor([[-0.0397, -0.1098, -0.3414,  ..., -0.2921,  0.1893,  0.3437],\n",
       "        [ 0.1577, -0.1613, -0.2698,  ..., -0.0442,  0.1162,  0.2002],\n",
       "        [ 0.1049,  0.0737, -0.5971,  ...,  0.2132,  0.3318,  0.0623],\n",
       "        ...,\n",
       "        [ 0.0898, -0.2799, -0.5587,  ...,  0.0197,  0.2609, -0.1169],\n",
       "        [ 0.0719, -0.2068, -0.6526,  ...,  0.0997,  0.1555,  0.0533],\n",
       "        [-0.0061, -0.2416, -0.5308,  ...,  0.0801,  0.2188,  0.0515]])"
      ]
     },
     "execution_count": 28,
     "metadata": {},
     "output_type": "execute_result"
    }
   ],
   "source": [
    "all_sentence_embeddings"
   ]
  },
  {
   "cell_type": "markdown",
   "id": "4779f089-fd3f-410a-8740-9f59a679e703",
   "metadata": {},
   "source": [
    "#### **4.2.1. Обучение модели**"
   ]
  },
  {
   "cell_type": "code",
   "execution_count": 29,
   "id": "65175219-48d3-4746-ba88-5e65b4cd47d1",
   "metadata": {},
   "outputs": [
    {
     "name": "stderr",
     "output_type": "stream",
     "text": [
      "C:\\Users\\Alex\\AppData\\Local\\Temp\\ipykernel_7284\\4160157047.py:2: UserWarning: To copy construct from a tensor, it is recommended to use sourceTensor.clone().detach() or sourceTensor.clone().detach().requires_grad_(True), rather than torch.tensor(sourceTensor).\n",
      "  X_train_tensor = torch.tensor(X_train, dtype=torch.float32)\n",
      "C:\\Users\\Alex\\AppData\\Local\\Temp\\ipykernel_7284\\4160157047.py:3: UserWarning: To copy construct from a tensor, it is recommended to use sourceTensor.clone().detach() or sourceTensor.clone().detach().requires_grad_(True), rather than torch.tensor(sourceTensor).\n",
      "  X_test_tensor = torch.tensor(X_test, dtype=torch.float32)\n"
     ]
    }
   ],
   "source": [
    "X_train, X_test, y_train, y_test = train_test_split(all_sentence_embeddings, df.label, test_size=0.2, random_state=42)\n",
    "X_train_tensor = torch.tensor(X_train, dtype=torch.float32)\n",
    "X_test_tensor = torch.tensor(X_test, dtype=torch.float32)\n",
    "y_train_tensor = torch.tensor(y_train.values, dtype=torch.float32)\n",
    "y_test_tensor = torch.tensor(y_test.values, dtype=torch.float32)\n",
    "\n",
    "# Создание DataLoader для обучающего и тестового наборов данных\n",
    "train_dataset = TensorDataset(X_train_tensor, y_train_tensor)\n",
    "test_dataset = TensorDataset(X_test_tensor, y_test_tensor)\n",
    "\n",
    "train_loader = DataLoader(train_dataset, batch_size=32, shuffle=True)\n",
    "test_loader = DataLoader(test_dataset, batch_size=32)"
   ]
  },
  {
   "cell_type": "code",
   "execution_count": 30,
   "id": "0fd97168-ea46-4d63-abce-9932e5e7ca37",
   "metadata": {},
   "outputs": [],
   "source": [
    "input_size = sentence_embeddings.shape[1]\n",
    "hidden_size = 256\n",
    "output_size = 1\n",
    "num_epochs = 20"
   ]
  },
  {
   "cell_type": "code",
   "execution_count": 31,
   "id": "20f5196c-1226-4600-835e-cf3fb0bdf50e",
   "metadata": {},
   "outputs": [],
   "source": [
    "model_gpt = SpamClassifier(input_size, hidden_size, output_size)\n",
    "model_gpt = model_gpt.to(device)\n",
    "criterion = nn.BCELoss()\n",
    "optimizer = optim.Adam(model_gpt.parameters())"
   ]
  },
  {
   "cell_type": "code",
   "execution_count": 32,
   "id": "bdb937ec-993f-4c68-b366-cd5d7ba15585",
   "metadata": {},
   "outputs": [
    {
     "name": "stdout",
     "output_type": "stream",
     "text": [
      "Epoch 1, Train Loss: 1.642452347278595, Train Accuracy: 0.5375000238418579, Test Loss: 0.5657816444124494, Test Accuracy: 0.6949999928474426\n",
      "Epoch 2, Train Loss: 0.7787032532691955, Train Accuracy: 0.6324999928474426, Test Loss: 0.48123781595911297, Test Accuracy: 0.8299999833106995\n",
      "Epoch 3, Train Loss: 0.5639351832866669, Train Accuracy: 0.6887500286102295, Test Loss: 0.4325434948716845, Test Accuracy: 0.8450000286102295\n",
      "Epoch 4, Train Loss: 0.5243764781951904, Train Accuracy: 0.762499988079071, Test Loss: 0.37951078585215975, Test Accuracy: 0.9200000166893005\n",
      "Epoch 5, Train Loss: 0.5098331725597381, Train Accuracy: 0.7599999904632568, Test Loss: 0.34635165333747864, Test Accuracy: 0.8999999761581421\n",
      "Epoch 6, Train Loss: 0.45478919267654416, Train Accuracy: 0.7799999713897705, Test Loss: 0.30148289459092276, Test Accuracy: 0.9449999928474426\n",
      "Epoch 7, Train Loss: 0.43748314380645753, Train Accuracy: 0.8050000071525574, Test Loss: 0.26282788600240437, Test Accuracy: 0.9399999976158142\n",
      "Epoch 8, Train Loss: 0.41258188128471374, Train Accuracy: 0.824999988079071, Test Loss: 0.2467814747776304, Test Accuracy: 0.925000011920929\n",
      "Epoch 9, Train Loss: 0.40917260766029356, Train Accuracy: 0.8075000047683716, Test Loss: 0.23598847431795938, Test Accuracy: 0.949999988079071\n",
      "Epoch 10, Train Loss: 0.38582673788070676, Train Accuracy: 0.8274999856948853, Test Loss: 0.2336517082793372, Test Accuracy: 0.9549999833106995\n",
      "Epoch 11, Train Loss: 0.36806674242019655, Train Accuracy: 0.824999988079071, Test Loss: 0.1935798547097615, Test Accuracy: 0.9649999737739563\n",
      "Epoch 12, Train Loss: 0.3425916522741318, Train Accuracy: 0.8637499809265137, Test Loss: 0.16988317455564225, Test Accuracy: 0.949999988079071\n",
      "Epoch 13, Train Loss: 0.34104874908924104, Train Accuracy: 0.8462499976158142, Test Loss: 0.17573334170239313, Test Accuracy: 0.9750000238418579\n",
      "Epoch 14, Train Loss: 0.3227201735973358, Train Accuracy: 0.8725000023841858, Test Loss: 0.1607412930045809, Test Accuracy: 0.9649999737739563\n",
      "Epoch 15, Train Loss: 0.31883433401584627, Train Accuracy: 0.8675000071525574, Test Loss: 0.1424342862197331, Test Accuracy: 0.9649999737739563\n",
      "Epoch 16, Train Loss: 0.2941902220249176, Train Accuracy: 0.8812500238418579, Test Loss: 0.12330635424171175, Test Accuracy: 0.9649999737739563\n",
      "Epoch 17, Train Loss: 0.2980085492134094, Train Accuracy: 0.8700000047683716, Test Loss: 0.13307447412184306, Test Accuracy: 0.9649999737739563\n",
      "Epoch 18, Train Loss: 0.2737143337726593, Train Accuracy: 0.8887500166893005, Test Loss: 0.11922967859676906, Test Accuracy: 0.9599999785423279\n",
      "Epoch 19, Train Loss: 0.27633010029792787, Train Accuracy: 0.8824999928474426, Test Loss: 0.12383649498224258, Test Accuracy: 0.9599999785423279\n",
      "Epoch 20, Train Loss: 0.27215956032276156, Train Accuracy: 0.8837500214576721, Test Loss: 0.10553154189671789, Test Accuracy: 0.9599999785423279\n"
     ]
    }
   ],
   "source": [
    "train_losses = []\n",
    "train_accuracies = []\n",
    "test_losses = []\n",
    "test_accuracies = []\n",
    "\n",
    "# Обучение модели\n",
    "for epoch in range(1, num_epochs+1):\n",
    "    model_gpt.train()\n",
    "    running_loss = 0.0\n",
    "    correct_train = 0\n",
    "    total_train = 0\n",
    "    for inputs, labels in train_loader:\n",
    "        inputs = inputs.to(device)  \n",
    "        labels = labels.to(device)  \n",
    "        outputs = model_gpt(inputs)\n",
    "        loss = criterion(outputs, labels.unsqueeze(1))\n",
    "        optimizer.zero_grad()\n",
    "        loss.backward()\n",
    "        optimizer.step()\n",
    "        running_loss += loss.item()\n",
    "\n",
    "        total_train += labels.size(0)\n",
    "        correct_train += sum(torch.tensor([1. if outputs.data[i] >= 0.5 else .0 for i in range(len(outputs))]) == labels)\n",
    "\n",
    "    \n",
    "    train_losses.append(running_loss / len(train_loader))\n",
    "    train_accuracies.append(correct_train / total_train)\n",
    "\n",
    "    model_gpt.eval()\n",
    "    test_loss = 0.0\n",
    "    correct_test = 0\n",
    "    total_test = 0\n",
    "    with torch.no_grad():\n",
    "        for inputs, labels in test_loader:\n",
    "            inputs = inputs.to(device) \n",
    "            labels = labels.to(device)  \n",
    "            outputs = model_gpt(inputs)\n",
    "            loss = criterion(outputs, labels.unsqueeze(1))\n",
    "            test_loss += loss.item()\n",
    "\n",
    "            total_test += labels.size(0)\n",
    "            correct_test += sum(torch.tensor([1. if outputs.data[i] >= 0.5 else .0 for i in range(len(outputs))]) == labels)\n",
    "\n",
    "    test_losses.append(test_loss / len(test_loader))\n",
    "    test_accuracies.append(correct_test / total_test)\n",
    "\n",
    "    print(f\"Epoch {epoch}, Train Loss: {train_losses[-1]}, Train Accuracy: {train_accuracies[-1]}, Test Loss: {test_losses[-1]}, Test Accuracy: {test_accuracies[-1]}\")"
   ]
  },
  {
   "cell_type": "code",
   "execution_count": 33,
   "id": "935cae5f-ea17-4809-ae0d-4ba0ea462370",
   "metadata": {},
   "outputs": [
    {
     "data": {
      "image/png": "[encoded data removed]",
      "text/plain": [
       "<Figure size 1000x500 with 2 Axes>"
      ]
     },
     "metadata": {},
     "output_type": "display_data"
    }
   ],
   "source": [
    "plt.figure(figsize=(10, 5))\n",
    "plt.subplot(1, 2, 1)\n",
    "plt.plot(range(1, num_epochs+1), train_losses, label='Training Loss')\n",
    "plt.plot(range(1, num_epochs+1), test_losses, label='Test Loss')\n",
    "plt.xlabel('Epochs')\n",
    "plt.ylabel('Loss')\n",
    "plt.title('Training and Test Losses')\n",
    "plt.legend()\n",
    "\n",
    "plt.subplot(1, 2, 2)\n",
    "plt.plot(range(1, num_epochs+1), train_accuracies, label='Training Accuracy')\n",
    "plt.plot(range(1, num_epochs+1), test_accuracies, label='Test Accuracy')\n",
    "plt.xlabel('Epochs')\n",
    "plt.ylabel('Accuracy')\n",
    "plt.title('Training and Test Accuracies')\n",
    "plt.legend()\n",
    "\n",
    "plt.tight_layout()\n",
    "plt.show()"
   ]
  },
  {
   "cell_type": "markdown",
   "id": "51bd397a-8681-485f-9203-e5ffe464aae2",
   "metadata": {},
   "source": [
    "#### **4.2.2. Метрики модели с эмбеддингами GPT-2**"
   ]
  },
  {
   "cell_type": "code",
   "execution_count": 34,
   "id": "823901ea-4ff4-4f57-8603-49dfe6f05ae2",
   "metadata": {},
   "outputs": [
    {
     "name": "stdout",
     "output_type": "stream",
     "text": [
      "F1-score: 0.9596\n",
      "Accuracy: 0.96\n"
     ]
    }
   ],
   "source": [
    "probabilities = model_gpt(X_test_tensor)\n",
    "predictions = probabilities.detach().numpy()\n",
    "\n",
    "threshold = 0.5\n",
    "predicted_labels = (predictions > threshold).astype(int)\n",
    "\n",
    "# Вычисляем метрики\n",
    "f1_weighted = f1_score(y_test_tensor, predicted_labels.squeeze(1), average='weighted')\n",
    "accuracy = accuracy_score(y_test_tensor, predicted_labels.squeeze(1))\n",
    "\n",
    "print(f'F1-score: {f1_weighted:.4f}')\n",
    "print(f'Accuracy: {accuracy}')"
   ]
  },
  {
   "cell_type": "code",
   "execution_count": null,
   "id": "14aac2f2-2724-4682-8d6b-5ab9a4187ee8",
   "metadata": {},
   "outputs": [],
   "source": []
  }
 ],
 "metadata": {
  "kernelspec": {
   "display_name": "Python 3 (ipykernel)",
   "language": "python",
   "name": "python3"
  },
  "language_info": {
   "codemirror_mode": {
    "name": "ipython",
    "version": 3
   },
   "file_extension": ".py",
   "mimetype": "text/x-python",
   "name": "python",
   "nbconvert_exporter": "python",
   "pygments_lexer": "ipython3",
   "version": "3.12.4"
  }
 },
 "nbformat": 4,
 "nbformat_minor": 5
}
